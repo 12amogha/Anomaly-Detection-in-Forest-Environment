{
 "cells": [
  {
   "cell_type": "code",
   "execution_count": 2,
   "metadata": {},
   "outputs": [
    {
     "name": "stderr",
     "output_type": "stream",
     "text": [
      "WARNING:absl:Compiled the loaded model, but the compiled metrics have yet to be built. `model.compile_metrics` will be empty until you train or evaluate the model.\n"
     ]
    },
    {
     "name": "stdout",
     "output_type": "stream",
     "text": [
      "\u001b[1m1/1\u001b[0m \u001b[32m━━━━━━━━━━━━━━━━━━━━\u001b[0m\u001b[37m\u001b[0m \u001b[1m1s\u001b[0m 1s/step\n",
      "Predicted class: no_fire_no_smoke\n"
     ]
    }
   ],
   "source": [
    "import os\n",
    "import numpy as np\n",
    "from tensorflow.keras.models import load_model\n",
    "from tensorflow.keras.preprocessing import image\n",
    "from tensorflow.keras.applications.efficientnet import preprocess_input\n",
    "\n",
    "model_path = 'E:/Wildfire_Detection_using_UAV_Images_Drone/anomaly/FIRE/2024-07-24_13-37-07_18b_18e/wildfire_detection_model.h5'\n",
    "model = load_model(model_path)\n",
    "\n",
    "categories = ['both_fire_and_smoke ', 'fire_no_smoke', 'no_fire_no_smoke'] \n",
    "\n",
    "def preprocess_image(img_path):\n",
    "    img = image.load_img(img_path, target_size=(224, 224))\n",
    "    img_array = image.img_to_array(img)\n",
    "    img_array = np.expand_dims(img_array, axis=0)\n",
    "    img_array = preprocess_input(img_array)\n",
    "    return img_array\n",
    "\n",
    "def predict_class(img_array):\n",
    "    predictions = model.predict(img_array)\n",
    "    predicted_class = categories[np.argmax(predictions)]\n",
    "    return predicted_class\n",
    "\n",
    "if __name__ == \"__main__\":\n",
    "    img_path = \"E:/Wildfire_Detection_using_UAV_Images_Drone/anomaly/FIRE/THERMAL/both_fire_and_smoke/254p Thermal Frame (3).jpg\"\n",
    "    if not os.path.exists(img_path):\n",
    "        print(\"File does not exist.\")\n",
    "    else:\n",
    "        img_array = preprocess_image(img_path)\n",
    "        predicted_class = predict_class(img_array)\n",
    "        print(f\"Predicted class: {predicted_class}\")\n"
   ]
  }
 ],
 "metadata": {
  "kernelspec": {
   "display_name": "anomaly",
   "language": "python",
   "name": "python3"
  },
  "language_info": {
   "codemirror_mode": {
    "name": "ipython",
    "version": 3
   },
   "file_extension": ".py",
   "mimetype": "text/x-python",
   "name": "python",
   "nbconvert_exporter": "python",
   "pygments_lexer": "ipython3",
   "version": "3.12.3"
  }
 },
 "nbformat": 4,
 "nbformat_minor": 2
}
